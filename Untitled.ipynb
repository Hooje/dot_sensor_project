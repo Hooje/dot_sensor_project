{
 "cells": [
  {
   "cell_type": "code",
   "execution_count": 14,
   "id": "bbeb6b57-e203-425d-93f1-4af6544ff4c9",
   "metadata": {},
   "outputs": [],
   "source": [
    "import math\n",
    "from math import cos,sin\n",
    "import numpy as np\n",
    "def angle_of_axis(old_v, old_n, new_v): # 舊的向量， 舊的法向量, 新的向量  \n",
    "    #print(f'old_v = {old_v}')\n",
    "    project_new_v = project_onto_plane(new_v, old_n) # 將新向量投影到舊的平面 (以n為法向量\n",
    "    #print('here ')\n",
    "    angle = angle_between_vector(old_v, project_new_v) #再計算投影後向量與舊向量的夾角\n",
    "    #print('there')\n",
    "    #print(old_v, project_new_v)\n",
    "    #input(f'angle = {angle}')\n",
    "    return angle \n",
    "def three_angle_of_eulers(e1,e2): # (old, new) 計算兩個尤拉角的前後彎、側彎、旋轉角度\n",
    "    e1_axis = euler_to_3vector(e1) # e1_axis = [x_axis, y_axis, z_axis] , x_axis = [x, y, z] vector....\n",
    "    e2_axis = euler_to_3vector(e2)\n",
    "\n",
    "    angle1 = angle_of_axis(e1_axis[0],e1_axis[1],e2_axis[0])  # 前彎 : 舊x軸和，新x軸投影到以舊y軸為法向量的xz平面 的這個投影向量，的夾角\n",
    "    angle2 = angle_of_axis(e1_axis[0],e1_axis[2],e2_axis[0])  # 側彎 : 舊x軸和，新x軸投影到以舊z軸為法向量的xy平面 的這個投影向量，的夾角\n",
    "    angle3 = angle_of_axis(e1_axis[1],e1_axis[0],e2_axis[1])  # 旋轉 : 舊y軸和，新y軸投影到以舊x軸為法向量的yz平面 的這個投影向量，的夾角\n",
    "    return angle1, angle2, angle3\n",
    "def euler_to_3vector(e):\n",
    "    #Z, Y, X (yaw, pitch, roll),\n",
    "    roll, pitch, yaw = e[0]*math.pi/180, e[1]*math.pi/180,e[2]*math.pi/180\n",
    "\n",
    "    x = cos(pitch)*cos(yaw) + sin(roll)*sin(pitch)*sin(yaw)\n",
    "    y = cos(roll)*sin(yaw)\n",
    "    z = -sin(pitch)*cos(yaw) + cos(pitch)*sin(roll)*sin(yaw)\n",
    "\n",
    "\n",
    "    v1 = np.array([x,y,z])\n",
    "\n",
    "    x = -cos(pitch)*sin(yaw) + sin(roll)*sin(pitch)*cos(yaw)\n",
    "    y = cos(roll)*cos(yaw)\n",
    "    z = sin(pitch)*sin(yaw) + cos(pitch)*sin(roll)*cos(yaw)\n",
    "\n",
    "    v2 = np.array([x,y,z])\n",
    "\n",
    "    x = sin(pitch)*cos(roll)\n",
    "    y = -sin(roll)\n",
    "    z = cos(pitch)*cos(roll)\n",
    "\n",
    "    v3 = np.array([x,y,z])\n",
    "\n",
    "    return [v1,v2,v3]\n",
    "def project_onto_plane(v, n): # v is your vector, n is Normal\n",
    "\n",
    "    v2 = np.dot(v,n)/np.dot(n,n) * n # v2 means v to n\n",
    "\n",
    "    v3 = v - v2 # v3 mean v to plane (normal is n)\n",
    "\n",
    "    return v3 "
   ]
  },
  {
   "cell_type": "code",
   "execution_count": 18,
   "id": "4deaf303-6d8c-44c9-ac74-a28e19c816dd",
   "metadata": {},
   "outputs": [
    {
     "name": "stdout",
     "output_type": "stream",
     "text": [
      "(180.0, 180.0, 90.0)\n"
     ]
    }
   ],
   "source": [
    "\n",
    "e1 = [0,90,0]\n",
    "#e2 = [0,45,0]\n",
    "e2 = [0,90,90]\n",
    "e2 = [90, 0, 90]\n",
    "print(three_angle_of_eulers(e1,e2))"
   ]
  },
  {
   "cell_type": "code",
   "execution_count": null,
   "id": "020fb866-6cce-4ce9-9f59-73fa6a191c3d",
   "metadata": {},
   "outputs": [],
   "source": []
  }
 ],
 "metadata": {
  "kernelspec": {
   "display_name": "Python 3 (ipykernel)",
   "language": "python",
   "name": "python3"
  },
  "language_info": {
   "codemirror_mode": {
    "name": "ipython",
    "version": 3
   },
   "file_extension": ".py",
   "mimetype": "text/x-python",
   "name": "python",
   "nbconvert_exporter": "python",
   "pygments_lexer": "ipython3",
   "version": "3.8.10"
  }
 },
 "nbformat": 4,
 "nbformat_minor": 5
}
